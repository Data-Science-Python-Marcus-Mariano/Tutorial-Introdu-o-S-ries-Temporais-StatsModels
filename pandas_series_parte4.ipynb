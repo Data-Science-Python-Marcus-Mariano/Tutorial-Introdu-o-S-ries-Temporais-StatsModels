{
 "cells": [
  {
   "cell_type": "markdown",
   "metadata": {},
   "source": [
    "# Introdução a Séries Temporais\n",
    "\n",
    "Tutorial for improve skills: 'Séries Temporais com python/pandas/statsmodels - Parte 01' (ORMaster) by Marcus Mariano\n",
    "\n",
    "**For more information about Marcus Mariano: [Web site](https://marcusmariano.github.io/mmariano/)**  \n",
    "\n",
    "**Séries Temporais com python/pandas/statsmodels - Parte 01 [ORMaster.](https://www.youtube.com/playlist?list=PL5fQ3JoS0SZscDaHgXahtx632NMnq5RR-)** \n",
    "\n",
    "**ronaldolagepessoa: [GitHub.](https://github.com/ronaldolagepessoa/timeseries)**"
   ]
  },
  {
   "cell_type": "code",
   "execution_count": 1,
   "metadata": {},
   "outputs": [],
   "source": [
    "import pandas as pd\n",
    "import numpy as np\n",
    "\n",
    "from tqdm.notebook import tqdm\n",
    "\n",
    "from matplotlib import pyplot as plt\n",
    "import seaborn as sns\n",
    "\n",
    "sns.set(style=\"darkgrid\", color_codes=True)\n",
    "%matplotlib inline"
   ]
  },
  {
   "cell_type": "code",
   "execution_count": 2,
   "metadata": {},
   "outputs": [],
   "source": [
    "import warnings\n",
    "warnings.filterwarnings('ignore')\n",
    "warnings.simplefilter('ignore')"
   ]
  },
  {
   "cell_type": "markdown",
   "metadata": {},
   "source": [
    "## Set parameters"
   ]
  },
  {
   "cell_type": "code",
   "execution_count": 3,
   "metadata": {},
   "outputs": [],
   "source": [
    "N_THREADS = 6 # threads cnt for lgbm and linear models\n",
    "N_FOLDS = 10 # folds cnt for AutoML\n",
    "N_JOBS = -1 # -1 means using all processors\n",
    "SEED = 0 # fixed random state for various reasons\n",
    "TEST_SIZE = 0.3 # Test size for metric check\n",
    "VERBOSE = 1\n",
    "EPOCHS = 50\n",
    "TIMEOUT = 600 # Time in seconds for automl run, 600 seconds = 10 minutes\n",
    "RAM = 16 #  Number of RAM limit\n",
    "CPU_LIMIT = 16 # Number of CPU limit\n",
    "TARGET_NAME = 'CHURN'"
   ]
  },
  {
   "cell_type": "markdown",
   "metadata": {},
   "source": [
    "## Autocorrelação Total e Parcial\n",
    "\n",
    "A autocorrelação é a medida de correlação entre uma variável e valores passados da mesma. Na autocorrelação total, a correlação entre a observação $X_t$ e a observação $X_{t - p}$ é calculada levando em consideração a dependência linear das observações intermediárias $X_{t - 1}, X_{t - 2}, \\ldots, X_{t - p + 1}$. A autocorrelação parcial, por outro lado, calcula a correlação entre a observação $X_{t}$ e $X_{t - p}$ eliminando a dependência linear das observações intermediárias.\n",
    "\n",
    "Utilizaremos as informações de vendas contidas no arquivo ```shampoo.csv``` para exemplificar a criação dos dois gráficos."
   ]
  },
  {
   "cell_type": "code",
   "execution_count": 4,
   "metadata": {},
   "outputs": [
    {
     "name": "stdout",
     "output_type": "stream",
     "text": [
      "(36, 2)\n"
     ]
    },
    {
     "data": {
      "text/html": [
       "<div>\n",
       "<style scoped>\n",
       "    .dataframe tbody tr th:only-of-type {\n",
       "        vertical-align: middle;\n",
       "    }\n",
       "\n",
       "    .dataframe tbody tr th {\n",
       "        vertical-align: top;\n",
       "    }\n",
       "\n",
       "    .dataframe thead th {\n",
       "        text-align: right;\n",
       "    }\n",
       "</style>\n",
       "<table border=\"1\" class=\"dataframe\">\n",
       "  <thead>\n",
       "    <tr style=\"text-align: right;\">\n",
       "      <th></th>\n",
       "      <th>Month</th>\n",
       "      <th>Sales</th>\n",
       "    </tr>\n",
       "  </thead>\n",
       "  <tbody>\n",
       "    <tr>\n",
       "      <th>0</th>\n",
       "      <td>2000-01</td>\n",
       "      <td>266.0</td>\n",
       "    </tr>\n",
       "    <tr>\n",
       "      <th>1</th>\n",
       "      <td>2000-02</td>\n",
       "      <td>145.9</td>\n",
       "    </tr>\n",
       "    <tr>\n",
       "      <th>2</th>\n",
       "      <td>2000-03</td>\n",
       "      <td>183.1</td>\n",
       "    </tr>\n",
       "    <tr>\n",
       "      <th>3</th>\n",
       "      <td>2000-04</td>\n",
       "      <td>119.3</td>\n",
       "    </tr>\n",
       "    <tr>\n",
       "      <th>4</th>\n",
       "      <td>2000-05</td>\n",
       "      <td>180.3</td>\n",
       "    </tr>\n",
       "  </tbody>\n",
       "</table>\n",
       "</div>"
      ],
      "text/plain": [
       "     Month  Sales\n",
       "0  2000-01  266.0\n",
       "1  2000-02  145.9\n",
       "2  2000-03  183.1\n",
       "3  2000-04  119.3\n",
       "4  2000-05  180.3"
      ]
     },
     "execution_count": 4,
     "metadata": {},
     "output_type": "execute_result"
    }
   ],
   "source": [
    "Path = \"\"\n",
    "\n",
    "data = pd.read_csv(Path+\"data/shampoo.csv\")\n",
    "print(data.shape)\n",
    "data.head()"
   ]
  },
  {
   "cell_type": "code",
   "execution_count": 5,
   "metadata": {},
   "outputs": [],
   "source": [
    "train = data.copy()"
   ]
  },
  {
   "cell_type": "code",
   "execution_count": 6,
   "metadata": {},
   "outputs": [
    {
     "data": {
      "text/html": [
       "<div>\n",
       "<style scoped>\n",
       "    .dataframe tbody tr th:only-of-type {\n",
       "        vertical-align: middle;\n",
       "    }\n",
       "\n",
       "    .dataframe tbody tr th {\n",
       "        vertical-align: top;\n",
       "    }\n",
       "\n",
       "    .dataframe thead th {\n",
       "        text-align: right;\n",
       "    }\n",
       "</style>\n",
       "<table border=\"1\" class=\"dataframe\">\n",
       "  <thead>\n",
       "    <tr style=\"text-align: right;\">\n",
       "      <th></th>\n",
       "      <th>Sales</th>\n",
       "    </tr>\n",
       "    <tr>\n",
       "      <th>Month</th>\n",
       "      <th></th>\n",
       "    </tr>\n",
       "  </thead>\n",
       "  <tbody>\n",
       "    <tr>\n",
       "      <th>2000-01-01</th>\n",
       "      <td>266.0</td>\n",
       "    </tr>\n",
       "    <tr>\n",
       "      <th>2000-02-01</th>\n",
       "      <td>145.9</td>\n",
       "    </tr>\n",
       "    <tr>\n",
       "      <th>2000-03-01</th>\n",
       "      <td>183.1</td>\n",
       "    </tr>\n",
       "    <tr>\n",
       "      <th>2000-04-01</th>\n",
       "      <td>119.3</td>\n",
       "    </tr>\n",
       "    <tr>\n",
       "      <th>2000-05-01</th>\n",
       "      <td>180.3</td>\n",
       "    </tr>\n",
       "  </tbody>\n",
       "</table>\n",
       "</div>"
      ],
      "text/plain": [
       "            Sales\n",
       "Month            \n",
       "2000-01-01  266.0\n",
       "2000-02-01  145.9\n",
       "2000-03-01  183.1\n",
       "2000-04-01  119.3\n",
       "2000-05-01  180.3"
      ]
     },
     "execution_count": 6,
     "metadata": {},
     "output_type": "execute_result"
    }
   ],
   "source": [
    "train.Month = pd.to_datetime(train.Month)\n",
    "train.set_index('Month', inplace=True)\n",
    "train.head()"
   ]
  },
  {
   "cell_type": "markdown",
   "metadata": {},
   "source": [
    "Para criar os gráficos de autocorrelação parcial e total, utilizaremos as funções ```plot_pacf()``` e ```plot_acf()```, respectivamente. As duas funções fazem parte do subpacote ```statsmodels.graphics.tsaplots``` e recebem como parâmetro a ```Series``` contendo a série temporal e o parâmetro ```lags``` para definição do número de períodos anteriores considerados.\n",
    "\n",
    "Para a correção de _bugs_ na criação do gráfico, acrescentaremos o comando ```plt.show()```."
   ]
  },
  {
   "cell_type": "code",
   "execution_count": 8,
   "metadata": {},
   "outputs": [
    {
     "data": {
      "image/png": "[encoded data removed]",
      "text/plain": [
       "<Figure size 432x288 with 1 Axes>"
      ]
     },
     "metadata": {
      "needs_background": "light"
     },
     "output_type": "display_data"
    }
   ],
   "source": [
    "from statsmodels.graphics.tsaplots import plot_acf, plot_pacf\n",
    "\n",
    "# Plot the total autocorrelation function\n",
    "plot_acf(train.Sales);"
   ]
  },
  {
   "cell_type": "code",
   "execution_count": 10,
   "metadata": {},
   "outputs": [
    {
     "data": {
      "image/png": "[encoded data removed]",
      "text/plain": [
       "<Figure size 432x288 with 1 Axes>"
      ]
     },
     "metadata": {
      "needs_background": "light"
     },
     "output_type": "display_data"
    }
   ],
   "source": [
    "# Plot the partial autocorrelation function\n",
    "plot_pacf(train.Sales, lags=10);"
   ]
  },
  {
   "cell_type": "markdown",
   "metadata": {},
   "source": [
    "Utilizamos a autocorrelação parcial como indicador para escolher o valor $p$ para o modelo autoregressivo AR($p$). Para analisar a autocorrelação parcial utilizamos o gráfico de autocorrelação parcial. Definiremos o parâmetro ```lags=10```, para exibir somente os 10 primeiros _lags_."
   ]
  },
  {
   "cell_type": "code",
   "execution_count": 12,
   "metadata": {},
   "outputs": [
    {
     "data": {
      "image/png": "[encoded data removed]",
      "text/plain": [
       "<Figure size 432x288 with 1 Axes>"
      ]
     },
     "metadata": {
      "needs_background": "light"
     },
     "output_type": "display_data"
    }
   ],
   "source": [
    "# Plot the partial autocorrelation function\n",
    "plot_pacf(train.Sales, lags=10);\n"
   ]
  },
  {
   "cell_type": "markdown",
   "metadata": {},
   "source": [
    "O resultado obtido é um gráfico tendo como eixos $x$ e $y$ o número de _lags_ e a autocorrelação parcial, respectivamente. \n",
    "\n",
    "Estamos interessados no último valor de autocorrelação que não faça parte da região de baixa significância representada pela área em azul claro. O valor de autocorrelação para $p=0$ será sempre 1, uma vez que a correlação de uma variável com ela mesma sempre o será. Para $p > 0$, percebemos que $p=2$ possui é o último valor de autocorrelação parcial dentre os _lags_ com significância estatística."
   ]
  },
  {
   "cell_type": "markdown",
   "metadata": {},
   "source": [
    "## Validação _train/test_\n",
    "\n",
    "Dependendo do modelo preditivo aplicado a uma série temporal, corremos o risco de nos deparar com problemas de _overfitting_. Dessa forma, precisamos estabelecer um procedimento de teste com a dinâmica _train/test_.\n",
    "\n",
    "Imaginemos o modelo preditivo como sendo um aluno que precisa estudar para uma prova. Para tanto, este tenta resolver um conjunto de questões de uma lista de exercícios. Caso a prova contenha as mesmas questões (ou um sub conjunto) da lista de exercícios, corremos o risco do aluno ter decorado as respostas, obtendo uma nota alta sem ter aprendido de fato sobre o conteúdo. Por outro lado, quando novas questões são aplicadas na prova, o aluno precisa ter aprendido sobre o conteúdo para obter uma nota satisfatória.\n",
    "\n",
    "A mesma lógica pode ser aplicada para a validação de modelos de séries temporais. Considerando uma séries com $n$ períodos, i.e., $t=1, 2, \\ldots, n$, dividiremos o conjunto de períodos em 2. Sendo um reservado para o \"treinamento\" do modelo e o outro para \"testar\" o mesmo.\n",
    "\n",
    "Para séries temporais, o conjunto contendo os períodos mais antigos serão sempre utilizados como conjunto de treinamento. A tamanho do conjunto de treinamento deve, também, sempre ser maior que o conjunto de teste. Essa divisão costuma obedecer a regra: treinamento (2/3) e teste (1/3).\n",
    "\n",
    "Aplicando o comando python ```len()``` na ```Series```, obtemos o número de períodos para a mesma. Dessa forma, multiplicaremos o número total de períodos por 2/3 e aplicaremos o resultado no comando python ```int()```, para que o resultado seja sempre um número inteiro. Chamaremos o resultado final de ```train_size```."
   ]
  },
  {
   "cell_type": "code",
   "execution_count": 14,
   "metadata": {},
   "outputs": [
    {
     "data": {
      "text/plain": [
       "24"
      ]
     },
     "execution_count": 14,
     "metadata": {},
     "output_type": "execute_result"
    }
   ],
   "source": [
    "X_train_size = int(len(train.Sales) * 2 / 3)\n",
    "X_train_size"
   ]
  },
  {
   "cell_type": "markdown",
   "metadata": {},
   "source": [
    "O conjunto de treinamento conterá os ```train_size = 24``` primeiros períodos da séries temporal. Utilizaremos o comando ```Series[:n]``` para filtrar os $n$ primeiros valores, dando o nome ```train_set``` ao resultado. Para o conjunto de testes denominado ```test_set```, utilizaremos o comando ```Series[n:]```."
   ]
  },
  {
   "cell_type": "code",
   "execution_count": 17,
   "metadata": {},
   "outputs": [
    {
     "data": {
      "text/plain": [
       "((24,), (12,))"
      ]
     },
     "execution_count": 17,
     "metadata": {},
     "output_type": "execute_result"
    }
   ],
   "source": [
    "X_train = train.Sales[:X_train_size]\n",
    "X_test = train.Sales[X_train_size:]\n",
    "\n",
    "X_train.shape, X_test.shape"
   ]
  },
  {
   "cell_type": "code",
   "execution_count": 20,
   "metadata": {},
   "outputs": [
    {
     "data": {
      "image/png": "[encoded data removed]",
      "text/plain": [
       "<Figure size 576x360 with 1 Axes>"
      ]
     },
     "metadata": {
      "needs_background": "light"
     },
     "output_type": "display_data"
    }
   ],
   "source": [
    "fig = plt.subplots(figsize=(8, 5))\n",
    "\n",
    "plt.plot(X_train)\n",
    "plt.plot(X_test);"
   ]
  },
  {
   "cell_type": "markdown",
   "metadata": {},
   "source": [
    "Criaremos, agora, um modelo auto-regressivo de ordem 2 (AR(2)) a partir do conjunto de treinamento ```train_set```. Acessando o atributo ```params``` obtemos os parâmetros do modelo AR(2)."
   ]
  },
  {
   "cell_type": "code",
   "execution_count": 22,
   "metadata": {},
   "outputs": [
    {
     "data": {
      "text/plain": [
       "const       82.005541\n",
       "L1.Sales     0.183201\n",
       "L2.Sales     0.488723\n",
       "dtype: float64"
      ]
     },
     "execution_count": 22,
     "metadata": {},
     "output_type": "execute_result"
    }
   ],
   "source": [
    "from statsmodels.tsa.ar_model import AR\n",
    "\n",
    "ar_2 = AR(X_train, freq='MS').fit(2)\n",
    "ar_2.params"
   ]
  },
  {
   "cell_type": "markdown",
   "metadata": {},
   "source": [
    "Com base nos parâmetros do modelo AR(2), podemos aplicar o mesmo utilizando a equação\n",
    "$$X_t = 82.00 + 0.18 X_{t-1} + 0.48 X_{t - 2}$$\n",
    "\n",
    "Para obter as previsões para o conjunto de testes ```test_set```, aplicaremos a equação acima neste conjunto. Atribuiremos os resultados em uma variável chamada ```previsoes```."
   ]
  },
  {
   "cell_type": "code",
   "execution_count": 24,
   "metadata": {},
   "outputs": [
    {
     "data": {
      "text/plain": [
       "Month\n",
       "2002-01-01           NaN\n",
       "2002-02-01           NaN\n",
       "2002-03-01    328.706734\n",
       "2002-04-01    355.112579\n",
       "2002-05-01    316.873600\n",
       "2002-06-01    370.220388\n",
       "2002-07-01    358.262478\n",
       "2002-08-01    401.205507\n",
       "2002-09-01    437.938657\n",
       "2002-10-01    406.152511\n",
       "2002-11-01    502.390416\n",
       "2002-12-01    420.790685\n",
       "Name: Sales, dtype: float64"
      ]
     },
     "execution_count": 24,
     "metadata": {},
     "output_type": "execute_result"
    }
   ],
   "source": [
    "preds = ar_2.params[0] + X_test.shift(1) * ar_2.params[1] + X_test.shift(2) * ar_2.params[2]\n",
    "preds"
   ]
  },
  {
   "cell_type": "markdown",
   "metadata": {},
   "source": [
    "Plotaremos, agora, o conjunto de treinamento, teste e as previsões."
   ]
  },
  {
   "cell_type": "code",
   "execution_count": 25,
   "metadata": {},
   "outputs": [
    {
     "data": {
      "image/png": "[encoded data removed]",
      "text/plain": [
       "<Figure size 576x360 with 1 Axes>"
      ]
     },
     "metadata": {
      "needs_background": "light"
     },
     "output_type": "display_data"
    }
   ],
   "source": [
    "fig = plt.subplots(figsize=(8, 5))\n",
    "\n",
    "\n",
    "plt.plot(X_train)\n",
    "plt.plot(X_test)\n",
    "plt.plot(preds);"
   ]
  },
  {
   "cell_type": "markdown",
   "metadata": {},
   "source": [
    "Com o gráfico, percebemos que o modelo AR(2) não obteve um resultado satisfatório. Para $p=2$, o modelo não conseguiu responder a mudança de inclinação nas vendas contidas no conjunto de treinamento. O resultado ruim se confirma com o cálculo do erro médio quadrático."
   ]
  },
  {
   "cell_type": "code",
   "execution_count": 26,
   "metadata": {},
   "outputs": [
    {
     "data": {
      "text/plain": [
       "18782.49412004275"
      ]
     },
     "execution_count": 26,
     "metadata": {},
     "output_type": "execute_result"
    }
   ],
   "source": [
    "((X_test - preds) ** 2).mean()"
   ]
  },
  {
   "cell_type": "markdown",
   "metadata": {},
   "source": [
    "Faremos, agora, um teste com o modelo AR(5)."
   ]
  },
  {
   "cell_type": "code",
   "execution_count": 27,
   "metadata": {},
   "outputs": [
    {
     "data": {
      "text/plain": [
       "const      -20.327360\n",
       "L1.Sales    -0.289116\n",
       "L2.Sales     0.370015\n",
       "L3.Sales     0.311572\n",
       "L4.Sales     0.415815\n",
       "L5.Sales     0.465187\n",
       "dtype: float64"
      ]
     },
     "execution_count": 27,
     "metadata": {},
     "output_type": "execute_result"
    }
   ],
   "source": [
    "ar_5 = AR(train, freq='MS').fit(5)\n",
    "ar_5.params"
   ]
  },
  {
   "cell_type": "markdown",
   "metadata": {},
   "source": [
    "Nesse caso, a equação que defini as previões é do tipo\n",
    "$$X_t = 0.98 -0.06X_{t-1} + 0.28X_{t-2} + 0.09X_{t-3}+0.54X_{t-4}+0.28X_{t-5}$$\n",
    "\n",
    "Para automatizar a aplicação do modelo, utilizaremos o loop abaixo."
   ]
  },
  {
   "cell_type": "code",
   "execution_count": 28,
   "metadata": {},
   "outputs": [
    {
     "data": {
      "text/plain": [
       "Month\n",
       "2002-01-01           NaN\n",
       "2002-02-01           NaN\n",
       "2002-03-01           NaN\n",
       "2002-04-01           NaN\n",
       "2002-05-01           NaN\n",
       "2002-06-01    465.772721\n",
       "2002-07-01    474.798491\n",
       "2002-08-01    429.785185\n",
       "2002-09-01    582.277668\n",
       "2002-10-01    481.180740\n",
       "2002-11-01    664.377369\n",
       "2002-12-01    637.171454\n",
       "Name: Sales, dtype: float64"
      ]
     },
     "execution_count": 28,
     "metadata": {},
     "output_type": "execute_result"
    }
   ],
   "source": [
    "preds = ar_5.params[0]\n",
    "for i, param in enumerate(ar_5.params[1:]):\n",
    "    preds += X_test.shift(i + 1) * param\n",
    "preds"
   ]
  },
  {
   "cell_type": "code",
   "execution_count": 30,
   "metadata": {},
   "outputs": [
    {
     "data": {
      "image/png": "[encoded data removed]",
      "text/plain": [
       "<Figure size 576x360 with 1 Axes>"
      ]
     },
     "metadata": {
      "needs_background": "light"
     },
     "output_type": "display_data"
    }
   ],
   "source": [
    "fig = plt.subplots(figsize=(8, 5))\n",
    "\n",
    "plt.plot(X_train)\n",
    "plt.plot(X_test)\n",
    "plt.plot(preds);"
   ]
  },
  {
   "cell_type": "markdown",
   "metadata": {},
   "source": [
    "Com $p=5$, observamos uma melhoria substancial nas previsões."
   ]
  },
  {
   "cell_type": "code",
   "execution_count": 31,
   "metadata": {},
   "outputs": [
    {
     "data": {
      "text/plain": [
       "4059.0868796248333"
      ]
     },
     "execution_count": 31,
     "metadata": {},
     "output_type": "execute_result"
    }
   ],
   "source": [
    "((X_test - preds) ** 2).mean()"
   ]
  }
 ],
 "metadata": {
  "kernelspec": {
   "display_name": "Python 3 (ipykernel)",
   "language": "python",
   "name": "python3"
  },
  "language_info": {
   "codemirror_mode": {
    "name": "ipython",
    "version": 3
   },
   "file_extension": ".py",
   "mimetype": "text/x-python",
   "name": "python",
   "nbconvert_exporter": "python",
   "pygments_lexer": "ipython3",
   "version": "3.9.7"
  }
 },
 "nbformat": 4,
 "nbformat_minor": 2
}
